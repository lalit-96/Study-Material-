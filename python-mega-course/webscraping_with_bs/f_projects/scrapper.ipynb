{
 "cells": [
  {
   "cell_type": "code",
   "execution_count": 1,
   "metadata": {},
   "outputs": [],
   "source": [
    "import requests\n",
    "from bs4 import BeautifulSoup"
   ]
  },
  {
   "cell_type": "code",
   "execution_count": 29,
   "metadata": {},
   "outputs": [],
   "source": [
    "# Get the page\n",
    "response = requests.get(\"https://www.walmart.com/search/?query=water&cat_id=0\")\n",
    "doc = BeautifulSoup(response.text, 'html.parser')"
   ]
  },
  {
   "cell_type": "code",
   "execution_count": 30,
   "metadata": {},
   "outputs": [
    {
     "name": "stdout",
     "output_type": "stream",
     "text": [
      "[]\n"
     ]
    }
   ],
   "source": [
    "# Grab all of the titles\n",
    "title_tags = doc.find_all(\"div\",{\"class\":\"prod-ProductTitle\"})\n",
    "print(title_tags)\n",
    "# Let's print the first 5\n",
    "for title in title_tags[:5]:\n",
    "    print(\"hello\")\n",
    "    print(title.text.strip())"
   ]
  },
  {
   "cell_type": "code",
   "execution_count": null,
   "metadata": {},
   "outputs": [],
   "source": []
  },
  {
   "cell_type": "code",
   "execution_count": null,
   "metadata": {},
   "outputs": [],
   "source": []
  },
  {
   "cell_type": "code",
   "execution_count": 35,
   "metadata": {},
   "outputs": [
    {
     "name": "stdout",
     "output_type": "stream",
     "text": [
      "[]\n"
     ]
    }
   ],
   "source": [
    "data = {\n",
    "    'P_QTE_CODE': 'ENG',\n",
    "    'P_QTE_PGM_CODE': '7500',\n",
    "    'P_LAST_NAME': 'smith',\n",
    "    'P_FIRST_NAME': '',\n",
    "    'P_INITIAL': '',\n",
    "    'P_LICENSE_NUM': '',\n",
    "    'P_CITY': '',\n",
    "    'P_COUNTY': 'LOS ANGELES',\n",
    "    'P_RECORD_SET_SIZE': '50',\n",
    "    'Z_ACTION': 'Find'\n",
    "}\n",
    "\n",
    "# Get the page\n",
    "# use .post\n",
    "# send the data\n",
    "url = \"http://www2.dca.ca.gov/pls/wllpub/WLLQRYNA$LCEV2.ActionQuery\"\n",
    "response = requests.post(url, data=data)\n",
    "doc = BeautifulSoup(response.content, 'html.parser')\n",
    "#print(doc.prettify)\n",
    "# Grab all of the rows\n",
    "row_tags = doc.find_all('tr')\n",
    "print(row_tags)\n",
    "# Let's print the first 5\n",
    "for row in row_tags[:5]:\n",
    "    print(row.text.strip())"
   ]
  },
  {
   "cell_type": "code",
   "execution_count": null,
   "metadata": {},
   "outputs": [],
   "source": []
  }
 ],
 "metadata": {
  "kernelspec": {
   "display_name": "Python 3",
   "language": "python",
   "name": "python3"
  },
  "language_info": {
   "codemirror_mode": {
    "name": "ipython",
    "version": 3
   },
   "file_extension": ".py",
   "mimetype": "text/x-python",
   "name": "python",
   "nbconvert_exporter": "python",
   "pygments_lexer": "ipython3",
   "version": "3.6.5"
  }
 },
 "nbformat": 4,
 "nbformat_minor": 2
}
