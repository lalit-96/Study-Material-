{
 "cells": [
  {
   "cell_type": "code",
   "execution_count": 1,
   "metadata": {},
   "outputs": [],
   "source": [
    "import requests\n",
    "from bs4 import BeautifulSoup\n",
    "import re"
   ]
  },
  {
   "cell_type": "code",
   "execution_count": 2,
   "metadata": {},
   "outputs": [],
   "source": [
    "data={   \n",
    "\"__RequestVerificationToken\": \"zBn9eHJuR3tfsAXytw0D9hSYSzA1PJ5d0m7Qn_7z0ng_e23GWtoQPLSY9emRZzcgEVpBRRgp_SIi82PNm0QIlUVZ-SmVEu0I6VxDa2dkNU01\",\n",
    "\"ID\": 0,\n",
    "\"pageTraverse\": 1,\n",
    "\"Project\":\"\" ,\n",
    "\"hdnProject\":\"\", \n",
    "\"Promoter\": \"\",\n",
    "\"hdnPromoter\":\"\", \n",
    "\"AgentName\": \"\",\n",
    "\"hdnAgent\": \"\",\n",
    "\"CertiNo\": \"\",\n",
    "\"hdnCertiNo\":\"\", \n",
    "\"State\": 27,\n",
    "\"Division\": 5,\n",
    "\"hdnDivision\":\"\", \n",
    "\"hdnDistrict\": \"\",\n",
    "\"hdnProject\": \"\",\n",
    "\"hdnDTaluka\": \"\",\n",
    "\"hdnVillage\": \"\",\n",
    "\"hdnState\": \"\",\n",
    "\"District\": \"\",\n",
    "\"Taluka\": \"\",\n",
    "\"Village\": \"\",\n",
    "\"CompletionDate_From\":\"\", \n",
    "\"hdnfromdate\": \"\",\n",
    "\"CompletionDate_To\":\"\", \n",
    "\"hdntodate\": \"\",\n",
    "\"PType\": \"\",\n",
    "\"hdnPType\":\"\", \n",
    "\"btnSearch\": \"Search\"\n",
    "      }"
   ]
  },
  {
   "cell_type": "code",
   "execution_count": 3,
   "metadata": {},
   "outputs": [],
   "source": [
    "urls=[]"
   ]
  },
  {
   "cell_type": "code",
   "execution_count": 4,
   "metadata": {},
   "outputs": [],
   "source": [
    "try:\n",
    "    response = requests.post(\"https://maharerait.mahaonline.gov.in/SearchList/Search\", data=data)\n",
    "    home = BeautifulSoup(response.content, 'html.parser')\n",
    "    sr=home.find(\"div\",{\"id\":\"DivBind\"})\n",
    "    if sr.find(\"label\").get_text().strip()==\"No Records Found\":\n",
    "        print(\"No Records Found\")\n",
    "    else:\n",
    "        static_url=\"https://maharerait.mahaonline.gov.in\"\n",
    "\n",
    "        #sr=doc.find(\"div\",{\"id\":\"DivBind\"})\n",
    "        tbody=sr.find(\"table\").find(\"tbody\")\n",
    "\n",
    "        for row  in tbody.find_all(\"tr\"):\n",
    "            url=row.find_all(\"td\")[4].find(\"a\")['href']\n",
    "            url=static_url+url\n",
    "            urls.append(url)\n",
    "except:\n",
    "    print(\"Something went wrong.......\")\n",
    "\n"
   ]
  },
  {
   "cell_type": "code",
   "execution_count": null,
   "metadata": {},
   "outputs": [],
   "source": [
    "\n",
    "\n"
   ]
  },
  {
   "cell_type": "code",
   "execution_count": 5,
   "metadata": {},
   "outputs": [],
   "source": [
    "pagination=home.find(\"ul\",{\"class\":\"pagination clearfix col-sm-12 col-xs-12\"})\n",
    "TotalRecords=pagination.find_all(\"li\")[0].find(\"input\")['value']\n",
    "TotalPages=re.findall(r'\\d+',pagination.find_all(\"li\")[1].get_text() )[0]\n"
   ]
  },
  {
   "cell_type": "code",
   "execution_count": null,
   "metadata": {},
   "outputs": [],
   "source": []
  },
  {
   "cell_type": "code",
   "execution_count": 6,
   "metadata": {},
   "outputs": [],
   "source": [
    "del(data[\"btnSearch\"])\n",
    "data['\"TotalRecords\"']=int(TotalRecords)\n",
    "data[\"CurrentPage\"]=1\n",
    "data[\"TotalPages\"]= int(TotalPages)\n",
    "data[\"Command\"]=\"Next\"\n"
   ]
  },
  {
   "cell_type": "code",
   "execution_count": null,
   "metadata": {},
   "outputs": [],
   "source": []
  },
  {
   "cell_type": "code",
   "execution_count": 7,
   "metadata": {},
   "outputs": [],
   "source": [
    "for page in range(1,10,1):\n",
    "    data['CurrentPage']=page\n",
    "    try:\n",
    "        response = requests.post(\"https://maharerait.mahaonline.gov.in/SearchList/Search\", data=data)\n",
    "        doc = BeautifulSoup(response.content, 'html.parser')\n",
    "        sr=doc.find(\"div\",{\"id\":\"DivBind\"})\n",
    "        if sr.find(\"label\").get_text().strip()==\"No Records Found\":\n",
    "            print(\"No Records Found\")\n",
    "        else:\n",
    "            static_url=\"https://maharerait.mahaonline.gov.in\"\n",
    "\n",
    "            #sr=doc.find(\"div\",{\"id\":\"DivBind\"})\n",
    "            tbody=sr.find(\"table\").find(\"tbody\")\n",
    "\n",
    "            for row  in tbody.find_all(\"tr\"):\n",
    "                url=row.find_all(\"td\")[4].find(\"a\")['href']\n",
    "                url=static_url+url\n",
    "                urls.append(url)\n",
    "    except:\n",
    "        print(\"Something went wrong.......\")"
   ]
  },
  {
   "cell_type": "code",
   "execution_count": 8,
   "metadata": {},
   "outputs": [
    {
     "data": {
      "text/plain": [
       "500"
      ]
     },
     "execution_count": 8,
     "metadata": {},
     "output_type": "execute_result"
    }
   ],
   "source": [
    "len(urls)"
   ]
  },
  {
   "cell_type": "code",
   "execution_count": null,
   "metadata": {},
   "outputs": [],
   "source": []
  },
  {
   "cell_type": "code",
   "execution_count": null,
   "metadata": {},
   "outputs": [],
   "source": []
  }
 ],
 "metadata": {
  "kernelspec": {
   "display_name": "Python 3",
   "language": "python",
   "name": "python3"
  },
  "language_info": {
   "codemirror_mode": {
    "name": "ipython",
    "version": 3
   },
   "file_extension": ".py",
   "mimetype": "text/x-python",
   "name": "python",
   "nbconvert_exporter": "python",
   "pygments_lexer": "ipython3",
   "version": "3.6.5"
  }
 },
 "nbformat": 4,
 "nbformat_minor": 2
}
