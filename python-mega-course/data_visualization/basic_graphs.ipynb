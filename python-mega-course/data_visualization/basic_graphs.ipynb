{
 "cells": [
  {
   "cell_type": "code",
   "execution_count": 1,
   "metadata": {},
   "outputs": [],
   "source": [
    "# plotting a basic bokeh line graph\n",
    "# importing bokeh\n",
    "from bokeh.plotting import figure\n",
    "from bokeh.io import output_file,show\n",
    "\n",
    "# create a figure object\n",
    "f1=figure()\n",
    "\n",
    "#prepare some data\n",
    "x=[1,2,3,4,5]\n",
    "y=[6,7,8,9,10]\n",
    "\n",
    "#create line plot\n",
    "f1.line(x,y)\n",
    "\n",
    "#prepare the output file\n",
    "output_file(\"line1.html\")\n",
    "\n",
    "#write the plot in figure object\n",
    "show(f1)\n",
    "\n",
    "\n",
    "\n",
    "\n"
   ]
  },
  {
   "cell_type": "code",
   "execution_count": 2,
   "metadata": {},
   "outputs": [],
   "source": [
    "import pandas as pd \n",
    "\n",
    "# create a figure object\n",
    "f2=figure()\n",
    "\n",
    "#prepare some data\n",
    "df=pd.read_csv(\"bachelors.csv\")\n",
    "x=df[\"Year\"]\n",
    "y=df[\"Engineering\"]\n",
    "\n",
    "#create line plot\n",
    "f2.line(x,y)\n",
    "\n",
    "\n",
    "#prepare the output file\n",
    "output_file(\"Education_data_graph.html\")\n",
    "\n",
    "#write the plot in figure object\n",
    "show(f2)"
   ]
  },
  {
   "cell_type": "code",
   "execution_count": 3,
   "metadata": {},
   "outputs": [],
   "source": [
    " \n",
    "f3=figure(plot_width=500,plot_height=400, tools='pan',logo=None)\n",
    " \n",
    "f3.title.text=\"Cool Data\"\n",
    "f3.title.text_color=\"Gray\"\n",
    "f3.title.text_font=\"times\"\n",
    "f3.title.text_font_style=\"bold\"\n",
    "f3.xaxis.minor_tick_line_color=None\n",
    "f3.yaxis.minor_tick_line_color=None\n",
    "f3.xaxis.axis_label=\"Date\"\n",
    "f3.yaxis.axis_label=\"Intensity\"    \n",
    " \n",
    "f3.line([1,2,3],[4,5,6])\n",
    "output_file(\"graph.html\")\n",
    "show(f3)"
   ]
  },
  {
   "cell_type": "code",
   "execution_count": 5,
   "metadata": {},
   "outputs": [],
   "source": [
    "import pandas\n",
    "f4=figure(plot_width=500,plot_height=400,tools='pan',logo=None)\n",
    "f4.title.text=\"Temperature and Air Pressure\"\n",
    "f4.title.text_color=\"Green\"\n",
    "f4.title.text_font=\"times\"\n",
    "f4.title.text_font_style=\"bold\"\n",
    "\n",
    "f4.xaxis.minor_tick_line_color=\"Yellow\"\n",
    "f4.yaxis.minor_tick_line_color=\"Yellow\"\n",
    "f4.xaxis.axis_label=\"Temperature(*C)\"\n",
    "f4.yaxis.axis_label=\"Pressure(hpa)\"\n",
    "#prepare data\n",
    "df=pandas.read_excel(\"http://pythonhow.com/data/verlegenhuken.xlsx\",sheet_name=0)\n",
    "df[\"Temperature\"]=df[\"Temperature\"]/10\n",
    "df[\"Pressure\"]=df[\"Pressure\"]/10\n",
    "\n",
    "f4.circle(df[\"Temperature\"],df[\"Pressure\"],size=0.5)\n",
    "\n",
    "output_file(\"weather_data.html\")\n",
    "show(f4)\n"
   ]
  }
 ],
 "metadata": {
  "kernelspec": {
   "display_name": "Python 3",
   "language": "python",
   "name": "python3"
  },
  "language_info": {
   "codemirror_mode": {
    "name": "ipython",
    "version": 3
   },
   "file_extension": ".py",
   "mimetype": "text/x-python",
   "name": "python",
   "nbconvert_exporter": "python",
   "pygments_lexer": "ipython3",
   "version": "3.7.1"
  }
 },
 "nbformat": 4,
 "nbformat_minor": 2
}
