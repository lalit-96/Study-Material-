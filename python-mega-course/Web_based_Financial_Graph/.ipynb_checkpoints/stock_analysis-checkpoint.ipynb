{
 "cells": [
  {
   "cell_type": "code",
   "execution_count": 2,
   "metadata": {},
   "outputs": [],
   "source": [
    "from pandas_datareader import data\n",
    "import datetime\n",
    "from bokeh.plotting import figure,show,output_file\n",
    "from bokeh.embed import components\n",
    "from bokeh.resources import CDN\n",
    "\n",
    "s=datetime.datetime(2016,3,1)\n",
    "e=datetime.datetime(2016,9,10)\n",
    "df=data.DataReader(name=\"GOOG\",data_source=\"yahoo\",start=s,end=e)\n",
    "#type(df)\n",
    "\n",
    "\n",
    "date_inc=df.index[df.Close>df.Open]\n",
    "date_dec=df.index[df.Close<df.Open]\n",
    "\n",
    "\n",
    "\n",
    "def inc_dec(c,o):\n",
    "    if c>o:\n",
    "        value=\"Increase\"\n",
    "    elif c<o:\n",
    "        value=\"Decrease\"\n",
    "    else:\n",
    "        value=\"Equal\"\n",
    "    return value\n",
    "\n",
    "df[\"Status\"]=[inc_dec(c,o) for c,o in zip(df.Close,df.Open)]\n",
    "\n",
    "\n",
    "df[\"Middle\"]=(df.Open+df.Close)/2\n",
    "df[\"Height\"]=abs(df.Close-df.Open)\n",
    "\n",
    "\n",
    "f=figure(x_axis_type='datetime',width=1000,height=300)\n",
    "f.title.text=\"Candlestick Chart\"\n",
    "f.grid.grid_line_alpha=0.3\n",
    "hours_12=12*60*60*1000\n",
    "f.segment(df.index,df.High,df.index,df.Low,color=\"Black\")\n",
    "\n",
    "f.rect(df.index[df.Status==\"Increase\"],df.Middle[df.Status==\"Increase\"],\n",
    "       hours_12,df.Height[df.Status==\"Increase\"],fill_color=\"#AFEEEE\",line_color=\"Black\")\n",
    "\n",
    "\n",
    "f.rect(df.index[df.Status==\"Decrease\"],df.Middle[df.Status==\"Decrease\"],\n",
    "       hours_12,df.Height[df.Status==\"Decrease\"],fill_color=\"#FF4500\",line_color=\"Black\")\n",
    "\n",
    "#output_file(\"cs2.html\")\n",
    "#show(f)\n",
    "script1,div=components(f)\n",
    "cdn_js=CDN.js_files\n",
    "cdn_css=CDN.css_files\n",
    "cdn_css"
   ]
  },
  {
   "cell_type": "code",
   "execution_count": null,
   "metadata": {},
   "outputs": [],
   "source": []
  }
 ],
 "metadata": {
  "kernelspec": {
   "display_name": "Python 3",
   "language": "python",
   "name": "python3"
  },
  "language_info": {
   "codemirror_mode": {
    "name": "ipython",
    "version": 3
   },
   "file_extension": ".py",
   "mimetype": "text/x-python",
   "name": "python",
   "nbconvert_exporter": "python",
   "pygments_lexer": "ipython3",
   "version": "3.6.5"
  }
 },
 "nbformat": 4,
 "nbformat_minor": 2
}
